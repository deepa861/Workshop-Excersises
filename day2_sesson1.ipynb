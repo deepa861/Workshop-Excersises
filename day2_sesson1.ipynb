{
  "nbformat": 4,
  "nbformat_minor": 0,
  "metadata": {
    "colab": {
      "name": "day2  sesson1.ipynb",
      "provenance": [],
      "collapsed_sections": [],
      "authorship_tag": "ABX9TyNhVt5bQ5PVsz6z6SOpN8KU",
      "include_colab_link": true
    },
    "kernelspec": {
      "name": "python3",
      "display_name": "Python 3"
    }
  },
  "cells": [
    {
      "cell_type": "markdown",
      "metadata": {
        "id": "view-in-github",
        "colab_type": "text"
      },
      "source": [
        "<a href=\"https://colab.research.google.com/github/deepa861/Workshop-Excersises/blob/master/day2_sesson1.ipynb\" target=\"_parent\"><img src=\"https://colab.research.google.com/assets/colab-badge.svg\" alt=\"Open In Colab\"/></a>"
      ]
    },
    {
      "cell_type": "code",
      "metadata": {
        "id": "eGLyE_be6cXN",
        "colab_type": "code",
        "colab": {
          "base_uri": "https://localhost:8080/",
          "height": 136
        },
        "outputId": "9ed70d56-35b3-475e-becd-9be7b2084917"
      },
      "source": [
        "a=[]\n",
        "c=[]\n",
        "n1=int(input(\"Enter number of elements:\"))\n",
        "for i in range(1,n1+1):\n",
        "    b=int(input(\"Enter element:\"))\n",
        "    a.append(b)\n",
        "n2=int(input(\"Enter number of elements:\"))\n",
        "for i in range(1,n2+1):\n",
        "    d=int(input(\"Enter element:\"))\n",
        "    c.append(d)\n",
        "new=a+c\n",
        "new.sort()\n",
        "print(\"Sorted list is:\",new)\n"
      ],
      "execution_count": null,
      "outputs": [
        {
          "output_type": "stream",
          "text": [
            "Enter number of elements:3\n",
            "Enter element:1\n",
            "Enter element:2\n",
            "Enter element:3\n",
            "Enter number of elements:1\n",
            "Enter element:1\n",
            "Sorted list is: [1, 1, 2, 3]\n"
          ],
          "name": "stdout"
        }
      ]
    },
    {
      "cell_type": "code",
      "metadata": {
        "id": "O5p4pwlz5onY",
        "colab_type": "code",
        "colab": {
          "base_uri": "https://localhost:8080/",
          "height": 102
        },
        "outputId": "e4cf84a7-2927-4f89-c0c9-ddc7eb70d6e2"
      },
      "source": [
        "x=0\n",
        "print('The greatest no is',max([int(input(x)) for i in range(int(input(\"Enter n\")))]))\n"
      ],
      "execution_count": null,
      "outputs": [
        {
          "output_type": "stream",
          "text": [
            "Enter n3\n",
            "1\n",
            "2\n",
            "3\n",
            "The greatest no is 3\n"
          ],
          "name": "stdout"
        }
      ]
    },
    {
      "cell_type": "code",
      "metadata": {
        "id": "N4k9vour6HRD",
        "colab_type": "code",
        "colab": {
          "base_uri": "https://localhost:8080/",
          "height": 119
        },
        "outputId": "d9cb00be-9b03-4276-ed38-eba6049e2b21"
      },
      "source": [
        "a=[]\n",
        "n=int(input(\"Enter number of elements:\"))\n",
        "for i in range(1,n+1):\n",
        "    b=int(input(\"Enter element:\"))\n",
        "    a.append(b)\n",
        "even=[]\n",
        "odd=[]\n",
        "for j in a:\n",
        "    if(j%2==0):\n",
        "        even.append(j)\n",
        "    else:\n",
        "        odd.append(j)\n",
        "print(\"The even list\",even)\n",
        "print(\"The odd list\",odd)\n",
        "\n"
      ],
      "execution_count": null,
      "outputs": [
        {
          "output_type": "stream",
          "text": [
            "Enter number of elements:3\n",
            "Enter element:2\n",
            "Enter element:4\n",
            "Enter element:5\n",
            "The even list [2, 4]\n",
            "The odd list [5]\n"
          ],
          "name": "stdout"
        }
      ]
    },
    {
      "cell_type": "code",
      "metadata": {
        "id": "54HA70tS6Zml",
        "colab_type": "code",
        "colab": {
          "base_uri": "https://localhost:8080/",
          "height": 153
        },
        "outputId": "86104fac-fa2c-4600-c143-55ed2d838ec7"
      },
      "source": [
        "a=[]\n",
        "c=[]\n",
        "n1=int(input(\"Enter number of elements:\"))\n",
        "for i in range(1,n1+1):\n",
        "    b=int(input(\"Enter element:\"))\n",
        "    a.append(b)\n",
        "n2=int(input(\"Enter number of elements:\"))\n",
        "for i in range(1,n2+1):\n",
        "    d=int(input(\"Enter element:\"))\n",
        "    c.append(d)\n",
        "new=a+c\n",
        "new.sort()\n",
        "print(\"Sorted list is:\",new)\n"
      ],
      "execution_count": null,
      "outputs": [
        {
          "output_type": "stream",
          "text": [
            "Enter number of elements:2\n",
            "Enter element:2\n",
            "Enter element:4\n",
            "Enter number of elements:3\n",
            "Enter element:1\n",
            "Enter element:5\n",
            "Enter element:7\n",
            "Sorted list is: [1, 2, 4, 5, 7]\n"
          ],
          "name": "stdout"
        }
      ]
    },
    {
      "cell_type": "code",
      "metadata": {
        "id": "gE5_4PnE6sQG",
        "colab_type": "code",
        "colab": {
          "base_uri": "https://localhost:8080/",
          "height": 34
        },
        "outputId": "0947849a-edb4-4dbf-d0a3-d3bbfd74dc53"
      },
      "source": [
        "a=[['A',34],['B',21],['C',26],['E',29]]\n",
        "for i in range(0,len(a)):\n",
        "    for j in range(i+1,len(a)):\n",
        "        if(a[i][1]>a[j][1]):\n",
        "            temp=a[j]\n",
        "            a[j]=a[i]\n",
        "            a[i]=temp\n",
        " \n",
        "print(a)\n"
      ],
      "execution_count": null,
      "outputs": [
        {
          "output_type": "stream",
          "text": [
            "[['B', 21], ['C', 26], ['E', 29], ['A', 34]]\n"
          ],
          "name": "stdout"
        }
      ]
    },
    {
      "cell_type": "code",
      "metadata": {
        "id": "GwKwJJZl6zT6",
        "colab_type": "code",
        "colab": {
          "base_uri": "https://localhost:8080/",
          "height": 102
        },
        "outputId": "67a09eb0-3fba-49eb-cde0-11a0f7e2ceea"
      },
      "source": [
        "a=[]\n",
        "n=int(input(\"Enter number of elements:\"))\n",
        "for i in range(1,n+1):\n",
        "    b=int(input(\"Enter element:\"))\n",
        "    a.append(b)\n",
        "for i in range(0,len(a)):\n",
        "    for j in range(0,len(a)-i-1):\n",
        "        if(a[j]>a[j+1]):\n",
        "            temp=a[j]\n",
        "            a[j]=a[j+1]\n",
        "            a[j+1]=temp \n",
        "print('Second largest number is:',a[n-2])\n",
        "\n"
      ],
      "execution_count": null,
      "outputs": [
        {
          "output_type": "stream",
          "text": [
            "Enter number of elements:3\n",
            "Enter element:2\n",
            "Enter element:-1\n",
            "Enter element:-3\n",
            "Second largest number is: -1\n"
          ],
          "name": "stdout"
        }
      ]
    },
    {
      "cell_type": "code",
      "metadata": {
        "id": "7eCF_19xXb5j",
        "colab_type": "code",
        "colab": {
          "base_uri": "https://localhost:8080/",
          "height": 34
        },
        "outputId": "abf26217-f03e-496f-824e-0443001b6699"
      },
      "source": [
        "list1 = [1, 2, 5, 6]\n",
        "res = [(val, pow(val, 2)) for val in list1] \n",
        "print(res)"
      ],
      "execution_count": null,
      "outputs": [
        {
          "output_type": "stream",
          "text": [
            "[(1, 1), (2, 4), (5, 25), (6, 36)]\n"
          ],
          "name": "stdout"
        }
      ]
    },
    {
      "cell_type": "code",
      "metadata": {
        "id": "2VxX2GsPY9ye",
        "colab_type": "code",
        "colab": {}
      },
      "source": [
        ""
      ],
      "execution_count": null,
      "outputs": []
    },
    {
      "cell_type": "code",
      "metadata": {
        "id": "1G76UppOYMa1",
        "colab_type": "code",
        "colab": {
          "base_uri": "https://localhost:8080/",
          "height": 54
        },
        "outputId": "38a99e09-f1d2-49c5-f6f6-4e891bd0ced9"
      },
      "source": [
        "import random\n",
        "def Rand(start, end, num):\n",
        " a=[]               \n",
        "for j in range(n):\n",
        " a.append(random.randint(1,20))\n",
        "print('Randomised list is: ',a)\n"
      ],
      "execution_count": null,
      "outputs": [
        {
          "output_type": "stream",
          "text": [
            "Randomised list is:  [2, 3, 5, 20, 5, 19, 6, 14, 10, 6, 9, 8, 10, 3, 12, 16, 7, 7, 19, 20, 2, 15, 1, 8, 14, 12, 8, 16, 5, 14, 8, 14, 6, 3, 17, 12, 18, 10, 3, 9, 7, 19, 1, 12, 7, 8, 19, 3, 11, 8, 20, 5, 12, 12, 9, 11, 13, 10, 16, 8, 8, 18, 11, 7, 12]\n"
          ],
          "name": "stdout"
        }
      ]
    },
    {
      "cell_type": "code",
      "metadata": {
        "id": "LjWcYeNIdoQU",
        "colab_type": "code",
        "colab": {
          "base_uri": "https://localhost:8080/",
          "height": 34
        },
        "outputId": "877f79b3-ef7b-4650-c15b-f330d19003f9"
      },
      "source": [
        "txt = 'but soft what light in yonder window breaks'\n",
        "words = txt.split()\n",
        "t = list()\n",
        "for word in words:\n",
        "   t.append((len(word), word))\n",
        "t.sort(reverse=True)\n",
        "\n",
        "res = list()\n",
        "for length, word in t:\n",
        "    res.append(word)\n",
        "\n",
        "print(res)\n"
      ],
      "execution_count": null,
      "outputs": [
        {
          "output_type": "stream",
          "text": [
            "['yonder', 'window', 'breaks', 'light', 'what', 'soft', 'but', 'in']\n"
          ],
          "name": "stdout"
        }
      ]
    },
    {
      "cell_type": "code",
      "metadata": {
        "id": "MYKNvWy1dvQO",
        "colab_type": "code",
        "colab": {
          "base_uri": "https://localhost:8080/",
          "height": 51
        },
        "outputId": "afa7b61e-752b-4482-9aad-fd3b5061ac70"
      },
      "source": [
        "pair = (\"dog\", \"cat\")\n",
        "\n",
        "(key, value) = pair\n",
        "print(key)\n",
        "print(value)\n"
      ],
      "execution_count": null,
      "outputs": [
        {
          "output_type": "stream",
          "text": [
            "dog\n",
            "cat\n"
          ],
          "name": "stdout"
        }
      ]
    },
    {
      "cell_type": "code",
      "metadata": {
        "id": "f-4vcKwxd5jY",
        "colab_type": "code",
        "colab": {
          "base_uri": "https://localhost:8080/",
          "height": 51
        },
        "outputId": "da643c77-f102-4aa3-9116-98fd2d0b5784"
      },
      "source": [
        "pair = (\"dog\", \"cat\")\n",
        "\n",
        "# Search for a value.\n",
        "if \"cat\" in pair:\n",
        "    print(\"Cat found\")\n",
        "\n",
        "# Search for a value not present.\n",
        "if \"bird\" not in pair:\n",
        "    print(\"Bird not found\")\n"
      ],
      "execution_count": null,
      "outputs": [
        {
          "output_type": "stream",
          "text": [
            "Cat found\n",
            "Bird not found\n"
          ],
          "name": "stdout"
        }
      ]
    },
    {
      "cell_type": "code",
      "metadata": {
        "id": "zomZlIPcffkn",
        "colab_type": "code",
        "colab": {
          "base_uri": "https://localhost:8080/",
          "height": 1000
        },
        "outputId": "148f7579-a431-474a-a81d-f1d51be13bda"
      },
      "source": [
        "n=int(input(\"enter the number:\"))\n",
        "for i in range(1,201):\n",
        "  print(n,\"*\",i,\"=\",n*i)"
      ],
      "execution_count": null,
      "outputs": [
        {
          "output_type": "stream",
          "text": [
            "enter the number:3\n",
            "3 * 1 = 3\n",
            "3 * 2 = 6\n",
            "3 * 3 = 9\n",
            "3 * 4 = 12\n",
            "3 * 5 = 15\n",
            "3 * 6 = 18\n",
            "3 * 7 = 21\n",
            "3 * 8 = 24\n",
            "3 * 9 = 27\n",
            "3 * 10 = 30\n",
            "3 * 11 = 33\n",
            "3 * 12 = 36\n",
            "3 * 13 = 39\n",
            "3 * 14 = 42\n",
            "3 * 15 = 45\n",
            "3 * 16 = 48\n",
            "3 * 17 = 51\n",
            "3 * 18 = 54\n",
            "3 * 19 = 57\n",
            "3 * 20 = 60\n",
            "3 * 21 = 63\n",
            "3 * 22 = 66\n",
            "3 * 23 = 69\n",
            "3 * 24 = 72\n",
            "3 * 25 = 75\n",
            "3 * 26 = 78\n",
            "3 * 27 = 81\n",
            "3 * 28 = 84\n",
            "3 * 29 = 87\n",
            "3 * 30 = 90\n",
            "3 * 31 = 93\n",
            "3 * 32 = 96\n",
            "3 * 33 = 99\n",
            "3 * 34 = 102\n",
            "3 * 35 = 105\n",
            "3 * 36 = 108\n",
            "3 * 37 = 111\n",
            "3 * 38 = 114\n",
            "3 * 39 = 117\n",
            "3 * 40 = 120\n",
            "3 * 41 = 123\n",
            "3 * 42 = 126\n",
            "3 * 43 = 129\n",
            "3 * 44 = 132\n",
            "3 * 45 = 135\n",
            "3 * 46 = 138\n",
            "3 * 47 = 141\n",
            "3 * 48 = 144\n",
            "3 * 49 = 147\n",
            "3 * 50 = 150\n",
            "3 * 51 = 153\n",
            "3 * 52 = 156\n",
            "3 * 53 = 159\n",
            "3 * 54 = 162\n",
            "3 * 55 = 165\n",
            "3 * 56 = 168\n",
            "3 * 57 = 171\n",
            "3 * 58 = 174\n",
            "3 * 59 = 177\n",
            "3 * 60 = 180\n",
            "3 * 61 = 183\n",
            "3 * 62 = 186\n",
            "3 * 63 = 189\n",
            "3 * 64 = 192\n",
            "3 * 65 = 195\n",
            "3 * 66 = 198\n",
            "3 * 67 = 201\n",
            "3 * 68 = 204\n",
            "3 * 69 = 207\n",
            "3 * 70 = 210\n",
            "3 * 71 = 213\n",
            "3 * 72 = 216\n",
            "3 * 73 = 219\n",
            "3 * 74 = 222\n",
            "3 * 75 = 225\n",
            "3 * 76 = 228\n",
            "3 * 77 = 231\n",
            "3 * 78 = 234\n",
            "3 * 79 = 237\n",
            "3 * 80 = 240\n",
            "3 * 81 = 243\n",
            "3 * 82 = 246\n",
            "3 * 83 = 249\n",
            "3 * 84 = 252\n",
            "3 * 85 = 255\n",
            "3 * 86 = 258\n",
            "3 * 87 = 261\n",
            "3 * 88 = 264\n",
            "3 * 89 = 267\n",
            "3 * 90 = 270\n",
            "3 * 91 = 273\n",
            "3 * 92 = 276\n",
            "3 * 93 = 279\n",
            "3 * 94 = 282\n",
            "3 * 95 = 285\n",
            "3 * 96 = 288\n",
            "3 * 97 = 291\n",
            "3 * 98 = 294\n",
            "3 * 99 = 297\n",
            "3 * 100 = 300\n",
            "3 * 101 = 303\n",
            "3 * 102 = 306\n",
            "3 * 103 = 309\n",
            "3 * 104 = 312\n",
            "3 * 105 = 315\n",
            "3 * 106 = 318\n",
            "3 * 107 = 321\n",
            "3 * 108 = 324\n",
            "3 * 109 = 327\n",
            "3 * 110 = 330\n",
            "3 * 111 = 333\n",
            "3 * 112 = 336\n",
            "3 * 113 = 339\n",
            "3 * 114 = 342\n",
            "3 * 115 = 345\n",
            "3 * 116 = 348\n",
            "3 * 117 = 351\n",
            "3 * 118 = 354\n",
            "3 * 119 = 357\n",
            "3 * 120 = 360\n",
            "3 * 121 = 363\n",
            "3 * 122 = 366\n",
            "3 * 123 = 369\n",
            "3 * 124 = 372\n",
            "3 * 125 = 375\n",
            "3 * 126 = 378\n",
            "3 * 127 = 381\n",
            "3 * 128 = 384\n",
            "3 * 129 = 387\n",
            "3 * 130 = 390\n",
            "3 * 131 = 393\n",
            "3 * 132 = 396\n",
            "3 * 133 = 399\n",
            "3 * 134 = 402\n",
            "3 * 135 = 405\n",
            "3 * 136 = 408\n",
            "3 * 137 = 411\n",
            "3 * 138 = 414\n",
            "3 * 139 = 417\n",
            "3 * 140 = 420\n",
            "3 * 141 = 423\n",
            "3 * 142 = 426\n",
            "3 * 143 = 429\n",
            "3 * 144 = 432\n",
            "3 * 145 = 435\n",
            "3 * 146 = 438\n",
            "3 * 147 = 441\n",
            "3 * 148 = 444\n",
            "3 * 149 = 447\n",
            "3 * 150 = 450\n",
            "3 * 151 = 453\n",
            "3 * 152 = 456\n",
            "3 * 153 = 459\n",
            "3 * 154 = 462\n",
            "3 * 155 = 465\n",
            "3 * 156 = 468\n",
            "3 * 157 = 471\n",
            "3 * 158 = 474\n",
            "3 * 159 = 477\n",
            "3 * 160 = 480\n",
            "3 * 161 = 483\n",
            "3 * 162 = 486\n",
            "3 * 163 = 489\n",
            "3 * 164 = 492\n",
            "3 * 165 = 495\n",
            "3 * 166 = 498\n",
            "3 * 167 = 501\n",
            "3 * 168 = 504\n",
            "3 * 169 = 507\n",
            "3 * 170 = 510\n",
            "3 * 171 = 513\n",
            "3 * 172 = 516\n",
            "3 * 173 = 519\n",
            "3 * 174 = 522\n",
            "3 * 175 = 525\n",
            "3 * 176 = 528\n",
            "3 * 177 = 531\n",
            "3 * 178 = 534\n",
            "3 * 179 = 537\n",
            "3 * 180 = 540\n",
            "3 * 181 = 543\n",
            "3 * 182 = 546\n",
            "3 * 183 = 549\n",
            "3 * 184 = 552\n",
            "3 * 185 = 555\n",
            "3 * 186 = 558\n",
            "3 * 187 = 561\n",
            "3 * 188 = 564\n",
            "3 * 189 = 567\n",
            "3 * 190 = 570\n",
            "3 * 191 = 573\n",
            "3 * 192 = 576\n",
            "3 * 193 = 579\n",
            "3 * 194 = 582\n",
            "3 * 195 = 585\n",
            "3 * 196 = 588\n",
            "3 * 197 = 591\n",
            "3 * 198 = 594\n",
            "3 * 199 = 597\n",
            "3 * 200 = 600\n"
          ],
          "name": "stdout"
        }
      ]
    },
    {
      "cell_type": "code",
      "metadata": {
        "id": "NIf7iXw6iGLM",
        "colab_type": "code",
        "colab": {
          "base_uri": "https://localhost:8080/",
          "height": 510
        },
        "outputId": "359592e2-057f-44c5-82b3-372bdf79eb0c"
      },
      "source": [
        "for i in range (1000,2001):\n",
        "  if(i%5==0 and i%7==0):\n",
        "    print(i)\n"
      ],
      "execution_count": null,
      "outputs": [
        {
          "output_type": "stream",
          "text": [
            "1015\n",
            "1050\n",
            "1085\n",
            "1120\n",
            "1155\n",
            "1190\n",
            "1225\n",
            "1260\n",
            "1295\n",
            "1330\n",
            "1365\n",
            "1400\n",
            "1435\n",
            "1470\n",
            "1505\n",
            "1540\n",
            "1575\n",
            "1610\n",
            "1645\n",
            "1680\n",
            "1715\n",
            "1750\n",
            "1785\n",
            "1820\n",
            "1855\n",
            "1890\n",
            "1925\n",
            "1960\n",
            "1995\n"
          ],
          "name": "stdout"
        }
      ]
    },
    {
      "cell_type": "code",
      "metadata": {
        "id": "4okG4yaxkYXe",
        "colab_type": "code",
        "colab": {
          "base_uri": "https://localhost:8080/",
          "height": 51
        },
        "outputId": "be823dcc-a272-4816-f348-348f01c3295e"
      },
      "source": [
        "names=['vishal','aditi','deepa']\n",
        "names.sort()\n",
        "print(names)\n",
        "names.sort(reverse=True)\n",
        "print(names)"
      ],
      "execution_count": null,
      "outputs": [
        {
          "output_type": "stream",
          "text": [
            "['aditi', 'deepa', 'vishal']\n",
            "['vishal', 'deepa', 'aditi']\n"
          ],
          "name": "stdout"
        }
      ]
    },
    {
      "cell_type": "code",
      "metadata": {
        "id": "7u3FZ3xnfVNy",
        "colab_type": "code",
        "colab": {
          "base_uri": "https://localhost:8080/",
          "height": 34
        },
        "outputId": "39f241ad-b54d-4491-b1df-9c4bf64bfbd5"
      },
      "source": [
        "def squares(a, b):\n",
        "    lists=[]\n",
        "    for i in range (a,b+1):\n",
        "        j = 1;\n",
        "        while j*j <= i:\n",
        "            if j*j == i and i%5:\n",
        "                 lists.append(i)  \n",
        "            j = j+1\n",
        "        i = i+1\n",
        "    return lists\n",
        "print(squares(500, 1001))"
      ],
      "execution_count": null,
      "outputs": [
        {
          "output_type": "stream",
          "text": [
            "[529, 576, 625, 676, 729, 784, 841, 900, 961]\n"
          ],
          "name": "stdout"
        }
      ]
    },
    {
      "cell_type": "code",
      "metadata": {
        "id": "5-3hKJWAYWcx",
        "colab_type": "code",
        "colab": {
          "base_uri": "https://localhost:8080/",
          "height": 68
        },
        "outputId": "95cee65a-cef7-4871-cf3b-9d590c5e40ac"
      },
      "source": [
        "l_range=int(input(\"Enter the lower range:\"))\n",
        "u_range=int(input(\"Enter the upper range:\"))\n",
        "a=[(x,x**2) for x in range(l_range,u_range+1)]\n",
        "print(a)\n"
      ],
      "execution_count": null,
      "outputs": [
        {
          "output_type": "stream",
          "text": [
            "Enter the lower range:1\n",
            "Enter the upper range:4\n",
            "[(1, 1), (2, 4), (3, 9), (4, 16)]\n"
          ],
          "name": "stdout"
        }
      ]
    },
    {
      "cell_type": "code",
      "metadata": {
        "id": "ek0ETNOIYrD2",
        "colab_type": "code",
        "colab": {
          "base_uri": "https://localhost:8080/",
          "height": 51
        },
        "outputId": "8eb1c6f6-5a94-4bb1-d76b-eb4ea865c374"
      },
      "source": [
        "import random\n",
        "a=[]\n",
        "n=int(input(\"Enter number of elements:\"))\n",
        "for j in range(n):\n",
        "    a.append(random.randint(1,20))\n",
        "print('Randomised list is: ',a)\n"
      ],
      "execution_count": null,
      "outputs": [
        {
          "output_type": "stream",
          "text": [
            "Enter number of elements:3\n",
            "Randomised list is:  [11, 13, 6]\n"
          ],
          "name": "stdout"
        }
      ]
    },
    {
      "cell_type": "code",
      "metadata": {
        "id": "8YQWaYV8Zg3v",
        "colab_type": "code",
        "colab": {
          "base_uri": "https://localhost:8080/",
          "height": 34
        },
        "outputId": "de6bcd93-d173-4df3-daba-d150d98e2250"
      },
      "source": [
        "txt = 'but soft what light in yonder window breaks'\n",
        "words = txt.split()\n",
        "t = list()\n",
        "for word in words:\n",
        "   t.append((len(word), word))\n",
        "t.sort(reverse=True)\n",
        "\n",
        "res = list()\n",
        "for length, word in t:\n",
        "    res.append(word)\n",
        "\n",
        "print(res)\n"
      ],
      "execution_count": null,
      "outputs": [
        {
          "output_type": "stream",
          "text": [
            "['yonder', 'window', 'breaks', 'light', 'what', 'soft', 'but', 'in']\n"
          ],
          "name": "stdout"
        }
      ]
    },
    {
      "cell_type": "code",
      "metadata": {
        "id": "0JMu8oL8json",
        "colab_type": "code",
        "colab": {
          "base_uri": "https://localhost:8080/",
          "height": 136
        },
        "outputId": "2708144c-5e1b-48bb-eda6-08d0a67a90ff"
      },
      "source": [
        "a=[]\n",
        "n= int(input(\"Enter the number of elements in list:\"))\n",
        "for x in range(0,n):\n",
        "    element=input(\"Enter element\" + str(x+1) + \":\")\n",
        "    a.append(element)\n",
        "max1=len(a[0])\n",
        "temp=a[0]\n",
        "for i in a:\n",
        "    if(len(i)>max1):\n",
        "       max1=len(i)\n",
        "       temp=i\n",
        "print(\"The word with the longest length is:\")\n",
        "print(temp)"
      ],
      "execution_count": null,
      "outputs": [
        {
          "output_type": "stream",
          "text": [
            "Enter the number of elements in list:4\n",
            "Enter element1:deepa\n",
            "Enter element2:roopa\n",
            "Enter element3:adi\n",
            "Enter element4:akshata\n",
            "The word with the longest length is:\n",
            "akshata\n"
          ],
          "name": "stdout"
        }
      ]
    },
    {
      "cell_type": "code",
      "metadata": {
        "id": "19EKdi8io2E8",
        "colab_type": "code",
        "colab": {
          "base_uri": "https://localhost:8080/",
          "height": 102
        },
        "outputId": "bb52cb96-b40c-4b4a-da78-b134fa42cb16"
      },
      "source": [
        "st=((101,98),(102,95),(103,87),(104,79))\n",
        "print(\"sl_no\",\"Roll_No\",\" Marks\")\n",
        "for i in range(0,len(st)):\n",
        "    print((i+1),'\\t',st[i][0],'\\t',st[i][1],'\\t')\n"
      ],
      "execution_count": null,
      "outputs": [
        {
          "output_type": "stream",
          "text": [
            "sl_no Roll_No  Marks\n",
            "1 \t 101 \t 98 \t\n",
            "2 \t 102 \t 95 \t\n",
            "3 \t 103 \t 87 \t\n",
            "4 \t 104 \t 79 \t\n"
          ],
          "name": "stdout"
        }
      ]
    },
    {
      "cell_type": "code",
      "metadata": {
        "id": "TZWCOisM09-P",
        "colab_type": "code",
        "colab": {
          "base_uri": "https://localhost:8080/",
          "height": 34
        },
        "outputId": "602900a9-36bc-4be9-81c6-f3d211435b75"
      },
      "source": [
        "emp=[{'name':'bill','salary':1000},{'name':'bill','salary':500},{'name':'jon','salary':2000}]\n",
        "emp_sorted=sorted(emp,key=lambda x:(x['name'],x['salary']))\n",
        "print(emp_sorted)\n"
      ],
      "execution_count": null,
      "outputs": [
        {
          "output_type": "stream",
          "text": [
            "[{'name': 'bill', 'salary': 500}, {'name': 'bill', 'salary': 1000}, {'name': 'jon', 'salary': 2000}]\n"
          ],
          "name": "stdout"
        }
      ]
    }
  ]
}